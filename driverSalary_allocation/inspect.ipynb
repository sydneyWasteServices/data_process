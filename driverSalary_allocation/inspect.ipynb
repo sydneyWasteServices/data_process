{
 "cells": [
  {
   "cell_type": "code",
   "execution_count": 2,
   "metadata": {},
   "outputs": [],
   "source": [
    "import pandas as pd\n",
    "import numpy as np"
   ]
  },
  {
   "cell_type": "code",
   "execution_count": 9,
   "metadata": {},
   "outputs": [],
   "source": [
    "PATH = 'D:\\\\Run Analysis\\\\BLOB_STORAGE\\\\Drivers_pay\\\\21th_2021.xlsx'\n",
    "PATH_1 = 'D:\\\\Run Analysis\\\\BLOB_STORAGE\\\\Roster\\\\weekly_roster_processed\\\\21th_2021.xlsx'\n",
    "\n",
    "df_salary = pd.read_excel(PATH)\n",
    "df_ros = pd.read_excel(PATH_1)\n",
    "df_salary.EmpID = df_salary.EmpID.str.lower()\n",
    "empSalaryID = df_salary['EmpID'].unique()\n",
    "\n",
    "\n",
    "# np.isnan(empSalaryID)\n",
    "\n",
    "rosID_P = df_ros[~df_ros.Primary_employeeID.isnull()].Primary_employeeID.unique()\n",
    "rosID_S = df_ros[~df_ros.Secondary_employeeID.isnull()].Secondary_employeeID.unique()\n",
    "\n",
    "# rosID_S = df_ros.Secondary_employeeID.unique()\n",
    "rosID = np.append(rosID_P, rosID_S)\n",
    "# np.isnan(rosID)\n",
    "# np.isnan(rosID)\n",
    "# rosID[np.isnan(rosID)]\n",
    "\n",
    "# [val for val in rosID if not np.isnan(val)]"
   ]
  },
  {
   "cell_type": "code",
   "execution_count": 10,
   "metadata": {},
   "outputs": [
    {
     "data": {
      "text/plain": [
       "array(['swgooowe', 'swshekev'], dtype=object)"
      ]
     },
     "execution_count": 10,
     "metadata": {},
     "output_type": "execute_result"
    }
   ],
   "source": [
    "np.setdiff1d(empSalaryID, rosID)"
   ]
  },
  {
   "cell_type": "code",
   "execution_count": 11,
   "metadata": {},
   "outputs": [
    {
     "data": {
      "text/plain": [
       "array(['subcon1'], dtype=object)"
      ]
     },
     "execution_count": 11,
     "metadata": {},
     "output_type": "execute_result"
    }
   ],
   "source": [
    "np.setdiff1d(rosID, empSalaryID)"
   ]
  },
  {
   "cell_type": "code",
   "execution_count": 8,
   "metadata": {},
   "outputs": [],
   "source": [
    "# rosID"
   ]
  },
  {
   "cell_type": "code",
   "execution_count": null,
   "metadata": {},
   "outputs": [],
   "source": []
  }
 ],
 "metadata": {
  "kernelspec": {
   "display_name": "Python 3",
   "language": "python",
   "name": "python3"
  },
  "language_info": {
   "codemirror_mode": {
    "name": "ipython",
    "version": 3
   },
   "file_extension": ".py",
   "mimetype": "text/x-python",
   "name": "python",
   "nbconvert_exporter": "python",
   "pygments_lexer": "ipython3",
   "version": "3.8.5"
  }
 },
 "nbformat": 4,
 "nbformat_minor": 4
}
