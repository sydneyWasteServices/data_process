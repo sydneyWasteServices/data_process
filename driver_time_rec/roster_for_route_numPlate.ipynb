{
 "cells": [
  {
   "cell_type": "code",
   "execution_count": 1,
   "metadata": {},
   "outputs": [],
   "source": [
    "import pandas as pd\n",
    "import numpy as np"
   ]
  },
  {
   "cell_type": "code",
   "execution_count": 7,
   "metadata": {},
   "outputs": [
    {
     "data": {
      "text/html": [
       "<div>\n",
       "<style scoped>\n",
       "    .dataframe tbody tr th:only-of-type {\n",
       "        vertical-align: middle;\n",
       "    }\n",
       "\n",
       "    .dataframe tbody tr th {\n",
       "        vertical-align: top;\n",
       "    }\n",
       "\n",
       "    .dataframe thead th {\n",
       "        text-align: right;\n",
       "    }\n",
       "</style>\n",
       "<table border=\"1\" class=\"dataframe\">\n",
       "  <thead>\n",
       "    <tr style=\"text-align: right;\">\n",
       "      <th></th>\n",
       "      <th>Date</th>\n",
       "      <th>Run_type</th>\n",
       "      <th>Primary_employeeID</th>\n",
       "      <th>Secondary_employeeID</th>\n",
       "      <th>Primary_driver_Name</th>\n",
       "      <th>Secondary_Driver_Name</th>\n",
       "      <th>Primary_route</th>\n",
       "      <th>Satellite_Route_1</th>\n",
       "      <th>Satellite_Route_2</th>\n",
       "      <th>Primary_truck</th>\n",
       "      <th>Alternative_Truck</th>\n",
       "      <th>Subcontracted_From/Special_Client</th>\n",
       "    </tr>\n",
       "  </thead>\n",
       "  <tbody>\n",
       "    <tr>\n",
       "      <th>0</th>\n",
       "      <td>2021-04-22</td>\n",
       "      <td>NIGHT RUNS</td>\n",
       "      <td>swaklado</td>\n",
       "      <td>NaN</td>\n",
       "      <td>ADONIS AKL</td>\n",
       "      <td>NaN</td>\n",
       "      <td>RLE</td>\n",
       "      <td>NaN</td>\n",
       "      <td>NaN</td>\n",
       "      <td>CL 98 LU</td>\n",
       "      <td>NaN</td>\n",
       "      <td>NaN</td>\n",
       "    </tr>\n",
       "  </tbody>\n",
       "</table>\n",
       "</div>"
      ],
      "text/plain": [
       "        Date    Run_type Primary_employeeID Secondary_employeeID  \\\n",
       "0 2021-04-22  NIGHT RUNS           swaklado                  NaN   \n",
       "\n",
       "  Primary_driver_Name Secondary_Driver_Name Primary_route Satellite_Route_1  \\\n",
       "0          ADONIS AKL                   NaN           RLE               NaN   \n",
       "\n",
       "  Satellite_Route_2 Primary_truck Alternative_Truck  \\\n",
       "0               NaN      CL 98 LU               NaN   \n",
       "\n",
       "  Subcontracted_From/Special_Client  \n",
       "0                               NaN  "
      ]
     },
     "execution_count": 7,
     "metadata": {},
     "output_type": "execute_result"
    }
   ],
   "source": [
    "PATH = 'D:\\\\Run Analysis\\\\BLOB_STORAGE\\\\Roster\\\\weekly_roster_processed\\\\16th_2021.xlsx'\n",
    "PATH_COMPLETE = 'D:\\\\Run Analysis\\\\BLOB_STORAGE\\\\driver_timesheet_rec\\\\Roster_rec\\\\16th_2021.csv'\n",
    "df = pd.read_excel(PATH)\n",
    "df.head(1)"
   ]
  },
  {
   "cell_type": "code",
   "execution_count": null,
   "metadata": {},
   "outputs": [],
   "source": [
    "df.groupby([])"
   ]
  },
  {
   "cell_type": "code",
   "execution_count": 8,
   "metadata": {},
   "outputs": [],
   "source": [
    "df[['Date', 'Primary_driver_Name', 'Primary_truck','Alternative_Truck']].to_csv(PATH_COMPLETE, index=False)"
   ]
  },
  {
   "cell_type": "code",
   "execution_count": null,
   "metadata": {},
   "outputs": [],
   "source": []
  },
  {
   "cell_type": "code",
   "execution_count": null,
   "metadata": {},
   "outputs": [],
   "source": []
  },
  {
   "cell_type": "code",
   "execution_count": null,
   "metadata": {},
   "outputs": [],
   "source": []
  },
  {
   "cell_type": "code",
   "execution_count": null,
   "metadata": {},
   "outputs": [],
   "source": []
  },
  {
   "cell_type": "code",
   "execution_count": null,
   "metadata": {},
   "outputs": [],
   "source": []
  },
  {
   "cell_type": "code",
   "execution_count": null,
   "metadata": {},
   "outputs": [],
   "source": []
  }
 ],
 "metadata": {
  "kernelspec": {
   "display_name": "Python 3",
   "language": "python",
   "name": "python3"
  },
  "language_info": {
   "codemirror_mode": {
    "name": "ipython",
    "version": 3
   },
   "file_extension": ".py",
   "mimetype": "text/x-python",
   "name": "python",
   "nbconvert_exporter": "python",
   "pygments_lexer": "ipython3",
   "version": "3.8.5"
  }
 },
 "nbformat": 4,
 "nbformat_minor": 4
}
