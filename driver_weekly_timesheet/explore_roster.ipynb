{
 "cells": [
  {
   "cell_type": "code",
   "execution_count": 29,
   "metadata": {},
   "outputs": [],
   "source": [
    "import pandas as pd\n",
    "import numpy as np"
   ]
  },
  {
   "cell_type": "code",
   "execution_count": 30,
   "metadata": {},
   "outputs": [],
   "source": [
    "PATH = 'D:\\\\Run Analysis\\\\BLOB_STORAGE\\\\Roster\\\\weekly_roster_processed\\\\20th_2021.xlsx'\n",
    "df = pd.read_excel(PATH)\n",
    "\n",
    "PATH_PAY = 'D:\\\\Run Analysis\\\\BLOB_STORAGE\\\\Drivers_pay\\\\20th_2021.xlsx'\n",
    "df_pay = pd.read_excel(PATH_PAY)\n",
    "df_pay.EmpID = df_pay.EmpID.str.lower()\n",
    "\n",
    "pay_ids = df_pay.EmpID.values"
   ]
  },
  {
   "cell_type": "code",
   "execution_count": 31,
   "metadata": {},
   "outputs": [
    {
     "data": {
      "text/plain": [
       "array(['swaklado', 'swbaichr', 'swbranat', 'swburlei', 'swdinvie',\n",
       "       'swedwben', 'swfiejih', 'swgooowe', 'swhewg', 'swhopdam',\n",
       "       'swjusjoh', 'swkuma', 'swliqi', 'swlip', 'swlocbra', 'swmittai',\n",
       "       'swmoylou', 'swnevpj', 'swrigda', 'swrobgar', 'swshekev',\n",
       "       'swsinvic', 'swtaujul', 'swtubjoh', 'swtupfek', 'swwarrob',\n",
       "       'swwhinei', 'ir12', 'irdeaz', 'ir02', 'ir20'], dtype=object)"
      ]
     },
     "execution_count": 31,
     "metadata": {},
     "output_type": "execute_result"
    }
   ],
   "source": [
    "ros_ids = df.Primary_employeeID.unique()\n",
    "pay_ids"
   ]
  },
  {
   "cell_type": "code",
   "execution_count": 32,
   "metadata": {},
   "outputs": [
    {
     "data": {
      "text/plain": [
       "array(['swgooowe'], dtype=object)"
      ]
     },
     "execution_count": 32,
     "metadata": {},
     "output_type": "execute_result"
    }
   ],
   "source": [
    "np.setdiff1d(pay_ids, ros_ids)"
   ]
  },
  {
   "cell_type": "code",
   "execution_count": 33,
   "metadata": {},
   "outputs": [
    {
     "data": {
      "text/plain": [
       "array(['subcon1', 'swizzcra'], dtype=object)"
      ]
     },
     "execution_count": 33,
     "metadata": {},
     "output_type": "execute_result"
    }
   ],
   "source": [
    "np.setdiff1d(ros_ids, pay_ids)"
   ]
  },
  {
   "cell_type": "code",
   "execution_count": null,
   "metadata": {},
   "outputs": [],
   "source": []
  },
  {
   "cell_type": "code",
   "execution_count": null,
   "metadata": {},
   "outputs": [],
   "source": []
  },
  {
   "cell_type": "code",
   "execution_count": null,
   "metadata": {},
   "outputs": [],
   "source": []
  }
 ],
 "metadata": {
  "kernelspec": {
   "display_name": "Python 3",
   "language": "python",
   "name": "python3"
  },
  "language_info": {
   "codemirror_mode": {
    "name": "ipython",
    "version": 3
   },
   "file_extension": ".py",
   "mimetype": "text/x-python",
   "name": "python",
   "nbconvert_exporter": "python",
   "pygments_lexer": "ipython3",
   "version": "3.8.5"
  }
 },
 "nbformat": 4,
 "nbformat_minor": 4
}
