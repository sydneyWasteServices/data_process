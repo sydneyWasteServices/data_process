{
 "cells": [
  {
   "cell_type": "code",
   "execution_count": 1,
   "metadata": {},
   "outputs": [],
   "source": [
    "import pandas as pd\n",
    "import numpy as np "
   ]
  },
  {
   "cell_type": "code",
   "execution_count": 17,
   "metadata": {},
   "outputs": [],
   "source": [
    "WEEK = '19th_2021'\n",
    "SOURCE_PATH = f'D:\\\\Run Analysis\\\\BLOB_STORAGE\\\\expenses_truck\\\\fuel\\\\waste_edge_fuel_transactions\\\\{WEEK}.xlsx'\n",
    "\n",
    "df= pd.read_excel(SOURCE_PATH)\n",
    "df[['RouteNumber', 'weekday']] = df.RouteNumber.str.split('-',1,expand=True)\n",
    "drop_col = [\n",
    "'EndTime',\n",
    "'NormalLabourHrs',\n",
    "'OverTimeLabourHrs',\n",
    "'LabourCostOverTime2',\n",
    "'OdometerStart',\n",
    "'OdometerFinish',\n",
    "'ContainerScheduled',\n",
    "'ContainerServiced',\n",
    "'MetricTons',\n",
    "'CubicMetres',\n",
    "'TipsVisited',\n",
    "'HourMeterStart',\n",
    "'HourMeterFinish',\n",
    "'HourMeterTotal',\n",
    "'TotalBookings',\n",
    "'BookingsCompleted',\n",
    "'BookingsFailed',\n",
    "'TruckCostHr',\n",
    "'LabourCostNormal',\n",
    "'LabourCostOverTime',\n",
    "'BookingCharges',\n",
    "'AdditionalCharges',\n",
    "'TotalRevenue',\n",
    "'GrossMarigin',\n",
    "'Distance',\n",
    "'TotalCost',\n",
    "'Branch'\n",
    "]\n",
    "df = df.drop(columns=drop_col)"
   ]
  },
  {
   "cell_type": "code",
   "execution_count": 18,
   "metadata": {},
   "outputs": [],
   "source": [
    "COM_PATH = f'D:\\\\Run Analysis\\\\BLOB_STORAGE\\\\expenses_truck\\\\fuel\\\\waste_edge_fuel_transactions\\\\rec\\\\{WEEK}_UOSGW.csv'     \n",
    "df[df.RouteNumber.eq('UOSGW')].to_csv(COM_PATH)\n",
    "\n"
   ]
  },
  {
   "cell_type": "code",
   "execution_count": 19,
   "metadata": {},
   "outputs": [],
   "source": [
    "COM_PATH = f'D:\\\\Run Analysis\\\\BLOB_STORAGE\\\\expenses_truck\\\\fuel\\\\waste_edge_fuel_transactions\\\\rec\\\\{WEEK}_RLI.csv'     \n",
    "\n",
    "df[df.RouteNumber.eq('RLI')].to_csv(COM_PATH)"
   ]
  },
  {
   "cell_type": "code",
   "execution_count": 20,
   "metadata": {},
   "outputs": [],
   "source": [
    "COM_PATH = f'D:\\\\Run Analysis\\\\BLOB_STORAGE\\\\expenses_truck\\\\fuel\\\\waste_edge_fuel_transactions\\\\rec\\\\{WEEK}_RLE.csv'     \n",
    "\n",
    "df[df.RouteNumber.eq('RLE')].to_csv(COM_PATH)"
   ]
  },
  {
   "cell_type": "code",
   "execution_count": null,
   "metadata": {},
   "outputs": [],
   "source": []
  },
  {
   "cell_type": "code",
   "execution_count": null,
   "metadata": {},
   "outputs": [],
   "source": []
  },
  {
   "cell_type": "code",
   "execution_count": null,
   "metadata": {},
   "outputs": [],
   "source": []
  }
 ],
 "metadata": {
  "kernelspec": {
   "display_name": "Python 3",
   "language": "python",
   "name": "python3"
  },
  "language_info": {
   "codemirror_mode": {
    "name": "ipython",
    "version": 3
   },
   "file_extension": ".py",
   "mimetype": "text/x-python",
   "name": "python",
   "nbconvert_exporter": "python",
   "pygments_lexer": "ipython3",
   "version": "3.8.5"
  }
 },
 "nbformat": 4,
 "nbformat_minor": 4
}
