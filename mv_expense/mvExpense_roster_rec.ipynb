{
 "cells": [
  {
   "cell_type": "code",
   "execution_count": 23,
   "metadata": {},
   "outputs": [
    {
     "ename": "SyntaxError",
     "evalue": "invalid syntax (<ipython-input-23-a0e8c9a872f7>, line 3)",
     "output_type": "error",
     "traceback": [
      "\u001b[1;36m  File \u001b[1;32m\"<ipython-input-23-a0e8c9a872f7>\"\u001b[1;36m, line \u001b[1;32m3\u001b[0m\n\u001b[1;33m    import pyspark.sql import SparkSession\u001b[0m\n\u001b[1;37m                       ^\u001b[0m\n\u001b[1;31mSyntaxError\u001b[0m\u001b[1;31m:\u001b[0m invalid syntax\n"
     ]
    }
   ],
   "source": [
    "import pandas as pd\n",
    "import numpy as np\n",
    "import pyspark.sql import SparkSession "
   ]
  },
  {
   "cell_type": "code",
   "execution_count": 11,
   "metadata": {},
   "outputs": [],
   "source": [
    "PATH = 'D:\\\\Run Analysis\\\\BLOB_STORAGE\\\\expenses_truck\\\\all_other_mv_expense\\\\processed\\\\15th_2021.xlsx'   \n",
    "df_mvExp = pd.read_excel(PATH)\n",
    "PATH_1 = 'D:\\Run Analysis\\\\BLOB_STORAGE\\\\Roster\\\\weekly_roster_processed\\\\15th_2021.xlsx'\n",
    "df_ros = pd.read_excel(PATH_1)"
   ]
  },
  {
   "cell_type": "code",
   "execution_count": 14,
   "metadata": {},
   "outputs": [],
   "source": [
    "mvexp_rego = df_mvExp['Job No.'].unique()"
   ]
  },
  {
   "cell_type": "code",
   "execution_count": 15,
   "metadata": {},
   "outputs": [],
   "source": [
    "df_ros.Primary_truck = df_ros.Primary_truck.str.replace(' ','')\n",
    "ros_rego = df_ros.Primary_truck.unique()"
   ]
  },
  {
   "cell_type": "code",
   "execution_count": 16,
   "metadata": {},
   "outputs": [
    {
     "data": {
      "text/plain": [
       "array(['CV57SC', 'DA59TU', 'FLEET', 'VMU428', 'XN97FC'], dtype=object)"
      ]
     },
     "execution_count": 16,
     "metadata": {},
     "output_type": "execute_result"
    }
   ],
   "source": [
    "np.setdiff1d(mvexp_rego, ros_rego)"
   ]
  },
  {
   "cell_type": "code",
   "execution_count": 17,
   "metadata": {},
   "outputs": [
    {
     "data": {
      "text/plain": [
       "array(['BY46TO', 'CBB804', 'CF48ED', 'CF71JM', 'CG06UT', 'CG94KY',\n",
       "       'CH32FV', 'CJ65PS', 'CM97HV', 'CN41XN', 'CQ64LO', 'XN06OJ',\n",
       "       'XN10HU', 'XN19IN', 'XN23KQ', 'XN23UV', 'XN25GD', 'XN44QZ',\n",
       "       'XN65IJ', 'XN72MK', 'XN75OS', 'XPL658'], dtype=object)"
      ]
     },
     "execution_count": 17,
     "metadata": {},
     "output_type": "execute_result"
    }
   ],
   "source": [
    "np.setdiff1d(ros_rego,mvexp_rego)"
   ]
  },
  {
   "cell_type": "code",
   "execution_count": null,
   "metadata": {},
   "outputs": [],
   "source": []
  },
  {
   "cell_type": "code",
   "execution_count": null,
   "metadata": {},
   "outputs": [],
   "source": []
  },
  {
   "cell_type": "code",
   "execution_count": null,
   "metadata": {},
   "outputs": [],
   "source": []
  }
 ],
 "metadata": {
  "kernelspec": {
   "display_name": "Python 3",
   "language": "python",
   "name": "python3"
  },
  "language_info": {
   "codemirror_mode": {
    "name": "ipython",
    "version": 3
   },
   "file_extension": ".py",
   "mimetype": "text/x-python",
   "name": "python",
   "nbconvert_exporter": "python",
   "pygments_lexer": "ipython3",
   "version": "3.8.5"
  }
 },
 "nbformat": 4,
 "nbformat_minor": 4
}
